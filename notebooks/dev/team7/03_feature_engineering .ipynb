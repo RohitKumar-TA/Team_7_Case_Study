{
 "cells": [
  {
   "cell_type": "markdown",
   "metadata": {
    "id": "QqqrBRsqTnhF"
   },
   "source": [
    "## Imports"
   ]
  },
  {
   "cell_type": "code",
   "execution_count": 208,
   "metadata": {
    "id": "vwl57yIzTnhI",
    "outputId": "7b50cdbd-af19-4289-da6a-77145bb63f0a"
   },
   "outputs": [
    {
     "name": "stdout",
     "output_type": "stream",
     "text": [
      "The autoreload extension is already loaded. To reload it, use:\n",
      "  %reload_ext autoreload\n"
     ]
    }
   ],
   "source": [
    "%load_ext autoreload\n",
    "%autoreload 2"
   ]
  },
  {
   "cell_type": "code",
   "execution_count": 209,
   "metadata": {
    "id": "Ovc7ZRZQTnhJ"
   },
   "outputs": [],
   "source": [
    "import os\n",
    "import os.path as op\n",
    "import shutil\n",
    "\n",
    "# standard third party imports\n",
    "import numpy as np\n",
    "import pandas as pd\n",
    "from sklearn.model_selection import train_test_split\n",
    "pd.options.mode.use_inf_as_na = True\n",
    "\n",
    "from datetime import datetime\n",
    "from dateutil.relativedelta import relativedelta"
   ]
  },
  {
   "cell_type": "code",
   "execution_count": 210,
   "metadata": {
    "id": "ORMWNOeHTnhK"
   },
   "outputs": [],
   "source": [
    "import warnings\n",
    "\n",
    "warnings.filterwarnings('ignore', message=\"The sklearn.metrics.classification module\", category=FutureWarning)\n",
    "warnings.filterwarnings('ignore', message=\".*title_format is deprecated. Please use title instead.*\")\n",
    "warnings.filterwarnings('ignore', message=\"optional dependency `torch` is not available. - skipping import of NN models.\")\n",
    "warnings.filterwarnings('ignore', message=\"The default value of regex will change from True to False in a future version.\",\n",
    "                        category=FutureWarning)"
   ]
  },
  {
   "cell_type": "code",
   "execution_count": 211,
   "metadata": {
    "id": "ghJ5eX9hTnhK",
    "outputId": "195e365b-86ce-4382-9fd9-c8aaf0060bc0"
   },
   "outputs": [],
   "source": [
    "# standard code-template imports\n",
    "from ta_lib.core.api import (\n",
    "    create_context, get_dataframe, get_feature_names_from_column_transformer, get_package_path,\n",
    "    display_as_tabs, string_cleaning, merge_info, initialize_environment\n",
    ")\n",
    "import ta_lib.core.api as dataset\n",
    "import ta_lib.eda.api as ta_analysis\n",
    "\n",
    "os.environ['TA_DEBUG'] = \"False\"\n",
    "os.environ['TA_ALLOW_EXCEPTIONS'] = \"True\"\n",
    "\n",
    "# Initialization\n",
    "initialize_environment(debug=False, hide_warnings=True)"
   ]
  },
  {
   "cell_type": "markdown",
   "metadata": {
    "id": "dmfD06WdTnhK"
   },
   "source": [
    "## Utility functions"
   ]
  },
  {
   "cell_type": "code",
   "execution_count": 268,
   "metadata": {
    "id": "ddc9kbApTnhL",
    "outputId": "49bb866b-3419-45fd-b5f7-c3f3cb84481e"
   },
   "outputs": [
    {
     "name": "stdout",
     "output_type": "stream",
     "text": [
      "['/raw/opt_data', '/raw/prd_data', '/raw/merged_data', '/cleaned/opt_data', '/cleaned/prd_data', '/processed/merged_df', '/processed/premodel', '/train/attrition/features', '/train/attrition/target', '/test/attrition/features', '/test/attrition/target']\n"
     ]
    }
   ],
   "source": [
    "config_path = op.join('conf', 'config.yml')\n",
    "context = create_context(config_path)\n",
    "print(dataset.list_datasets(context))"
   ]
  },
  {
   "cell_type": "markdown",
   "metadata": {
    "id": "N7h3o6v1TnhL"
   },
   "source": [
    "## Load processed data"
   ]
  },
  {
   "cell_type": "code",
   "execution_count": 213,
   "metadata": {
    "id": "ZqA2fFuPTnhL",
    "outputId": "769d0af4-4abc-43ba-fa98-1cdc8d719754"
   },
   "outputs": [
    {
     "name": "stdout",
     "output_type": "stream",
     "text": [
      "opt_data_df /cleaned/opt_data\n",
      "prd_data_df /cleaned/prd_data\n"
     ]
    }
   ],
   "source": [
    "# Loading processed datasets in a loop\n",
    "data = dict()\n",
    "\n",
    "for i in dataset.list_datasets(context):\n",
    "    if '/cleaned/' in i:\n",
    "        dataset_name = i.replace('/cleaned/','')\n",
    "        key_ = dataset_name+'_df'\n",
    "        print(key_ , i)\n",
    "        data[key_] = dataset.load_dataset(context,i)"
   ]
  },
  {
   "cell_type": "code",
   "execution_count": 214,
   "metadata": {
    "id": "-vhwzO5uTnhM",
    "outputId": "606288f7-d282-4f9a-ff0d-c54117c3f825"
   },
   "outputs": [
    {
     "name": "stdout",
     "output_type": "stream",
     "text": [
      "dict_keys(['opt_data_df', 'prd_data_df'])\n"
     ]
    }
   ],
   "source": [
    "print(data.keys())"
   ]
  },
  {
   "cell_type": "code",
   "execution_count": 215,
   "metadata": {
    "id": "U3YhlEWwTnhM"
   },
   "outputs": [],
   "source": [
    "data[\"opportunity_df\"] = data['opt_data_df'].drop(\"Unnamed: 0\", axis=1)\n",
    "data[\"product_df\"] = data[\"prd_data_df\"].drop(\"Unnamed: 0\", axis=1)"
   ]
  },
  {
   "cell_type": "code",
   "execution_count": 216,
   "metadata": {
    "id": "4Go3i-RJTnhM",
    "outputId": "000c9acf-28ab-4c10-fd8f-96d27c355e1c"
   },
   "outputs": [
    {
     "name": "stdout",
     "output_type": "stream",
     "text": [
      "Index(['unnamed 0', 'unnamed 0.4', 'unnamed 0.3', 'unnamed 0.2', 'unnamed 0.1',\n",
      "       'opportunity id', 'transition to stage', 'transition to timestamp',\n",
      "       'transition from stage name', 'transition from timestamp',\n",
      "       'customer name', 'risk status', 'creation date', 'decision date', 'win',\n",
      "       'opportunity type', 'core consumption market', 'core product segment',\n",
      "       'core sales segment', 'geography', 'core product application',\n",
      "       'no of days to decision', 'transition days', 'total transition days'],\n",
      "      dtype='object')\n",
      "Index(['unnamed 0', 'unnamed 0.4', 'unnamed 0.3', 'unnamed 0.2', 'unnamed 0.1',\n",
      "       'opportunity id', 'product id', 'product status', 'product $',\n",
      "       'product quantity', 'decision date', 'snapshot time',\n",
      "       'opportunity average price', 'opportunity total quantity',\n",
      "       'no of products', 'no of products lost', 'no of products won'],\n",
      "      dtype='object')\n"
     ]
    }
   ],
   "source": [
    "print(data['opportunity_df'].columns)\n",
    "print(data[\"product_df\"].columns)"
   ]
  },
  {
   "cell_type": "code",
   "execution_count": 217,
   "metadata": {},
   "outputs": [],
   "source": [
    "data['opportunity_df'].drop(['unnamed 0', 'unnamed 0.3', 'unnamed 0.2', 'unnamed 0.1'],inplace=True,axis=1)\n"
   ]
  },
  {
   "cell_type": "code",
   "execution_count": 218,
   "metadata": {},
   "outputs": [],
   "source": [
    "data[\"product_df\"].drop(['unnamed 0', 'unnamed 0.3', 'unnamed 0.2', 'unnamed 0.1'],inplace=True,axis=1)"
   ]
  },
  {
   "cell_type": "code",
   "execution_count": 219,
   "metadata": {
    "id": "yP46QIqHTnhM"
   },
   "outputs": [],
   "source": [
    "oppty_data_df = data['opportunity_df'].copy()\n",
    "prod_data_df = data[\"product_df\"].copy()"
   ]
  },
  {
   "cell_type": "code",
   "execution_count": 220,
   "metadata": {},
   "outputs": [
    {
     "data": {
      "text/plain": [
       "0        0\n",
       "1        3\n",
       "2        3\n",
       "3        3\n",
       "4        3\n",
       "        ..\n",
       "57255    6\n",
       "57256    6\n",
       "57257    6\n",
       "57258    6\n",
       "57259    0\n",
       "Name: transition from stage name, Length: 57260, dtype: int64"
      ]
     },
     "execution_count": 220,
     "metadata": {},
     "output_type": "execute_result"
    }
   ],
   "source": [
    "oppty_data_df['transition from stage name']"
   ]
  },
  {
   "cell_type": "code",
   "execution_count": 221,
   "metadata": {
    "id": "YkVo5ueoTnhM"
   },
   "outputs": [
    {
     "data": {
      "text/plain": [
       "0        0\n",
       "1        3\n",
       "2        3\n",
       "3        3\n",
       "4        3\n",
       "        ..\n",
       "57255    6\n",
       "57256    6\n",
       "57257    6\n",
       "57258    6\n",
       "57259    0\n",
       "Name: transition from stage name, Length: 57260, dtype: int64"
      ]
     },
     "execution_count": 221,
     "metadata": {},
     "output_type": "execute_result"
    }
   ],
   "source": [
    "oppty_data_df[\"transition from stage name\"].fillna('0')"
   ]
  },
  {
   "cell_type": "code",
   "execution_count": 222,
   "metadata": {
    "id": "pNI_ikFqTnhM"
   },
   "outputs": [],
   "source": [
    "oppty_data_df = oppty_data_df.sort_values(by=['opportunity id' , 'transition to timestamp'] , ascending = [True , True])"
   ]
  },
  {
   "cell_type": "code",
   "execution_count": 223,
   "metadata": {},
   "outputs": [
    {
     "data": {
      "text/plain": [
       " 3    22714\n",
       " 4    16396\n",
       " 2    11131\n",
       " 5     4669\n",
       "-1     2350\n",
       "Name: geography, dtype: int64"
      ]
     },
     "execution_count": 223,
     "metadata": {},
     "output_type": "execute_result"
    }
   ],
   "source": [
    "oppty_data_df['geography'].value_counts()"
   ]
  },
  {
   "cell_type": "code",
   "execution_count": 224,
   "metadata": {
    "id": "y9SlwNCITnhM"
   },
   "outputs": [],
   "source": [
    "Stage_column_list = list(oppty_data_df[\"transition to stage\"].unique())\n",
    "cols = ['transition to stage' , 'transition from stage name']\n",
    "for stage_name in Stage_column_list:\n",
    "    oppty_data_df[('stage '+str(stage_name) + \" transition\")] = ((oppty_data_df['transition to stage'] == stage_name) & (oppty_data_df['transition from stage name'] != stage_name)).astype(int)\n",
    "for stage_name in Stage_column_list:\n",
    "    column_name = ('stage '+str(stage_name) + \" transition\")\n",
    "    oppty_data_df[column_name] = oppty_data_df.groupby('opportunity id')[column_name].transform('sum')"
   ]
  },
  {
   "cell_type": "code",
   "execution_count": 225,
   "metadata": {
    "id": "x_sbrpj5TnhM"
   },
   "outputs": [],
   "source": [
    "##Geography!\n",
    "oppty_data_df['geography'] = oppty_data_df['geography'].replace({'Geo 1': 'Geo Unknown', 'Geo NA': 'Geo Unknown'})\n",
    "one_hot_df = pd.get_dummies(oppty_data_df['geography'], prefix='' , dtype=int)\n",
    "one_hot_df.columns =  [col[1:].lower() + ' geo flag' for col in one_hot_df.columns]\n",
    "oppty_data_df = pd.concat([oppty_data_df, one_hot_df], axis=1)\n",
    "\n",
    "oppty_data_df = oppty_data_df.drop(columns=['geography'])"
   ]
  },
  {
   "cell_type": "code",
   "execution_count": 226,
   "metadata": {},
   "outputs": [
    {
     "data": {
      "text/plain": [
       "array([0, 3, 4, 5, 2, 6, 8, 1, 7])"
      ]
     },
     "execution_count": 226,
     "metadata": {},
     "output_type": "execute_result"
    }
   ],
   "source": [
    "oppty_data_df['transition from stage name'].unique()"
   ]
  },
  {
   "cell_type": "code",
   "execution_count": 168,
   "metadata": {
    "id": "vdcvuB5XTnhN"
   },
   "outputs": [],
   "source": [
    "##Customers things &\n",
    "customer_columns = list(oppty_data_df.groupby(\"customer name\").agg({'opportunity id' : 'nunique'}).reset_index().sort_values(by = \"opportunity id\" , ascending=False).head(10)[\"customer name\"])\n",
    "customer_columns += [\"Customer Others\"]"
   ]
  },
  {
   "cell_type": "code",
   "execution_count": 169,
   "metadata": {
    "id": "d51e0eg8TnhN"
   },
   "outputs": [],
   "source": [
    "customer_df = pd.DataFrame()\n",
    "for cols in customer_columns:\n",
    "    col_name = 'customer '+str(cols) + \" flag\"\n",
    "    temp_val = []\n",
    "    for row in oppty_data_df[\"customer name\"]:\n",
    "        if cols == 'Customer Others':\n",
    "            if row not in customer_columns:\n",
    "                temp_val.append(1)\n",
    "            else:\n",
    "                temp_val.append(0)\n",
    "        else:\n",
    "            if row == cols:\n",
    "                temp_val.append(1)\n",
    "            else:\n",
    "                temp_val.append(0)\n",
    "    customer_df[col_name] = temp_val"
   ]
  },
  {
   "cell_type": "code",
   "execution_count": 227,
   "metadata": {
    "id": "YzdHilDsTnhN",
    "outputId": "096f4882-11f1-4f99-f432-af0125b939f6"
   },
   "outputs": [
    {
     "data": {
      "text/plain": [
       "Index(['customer 2207 flag', 'customer 2213 flag', 'customer 474 flag',\n",
       "       'customer 117 flag', 'customer 9 flag', 'customer 2132 flag',\n",
       "       'customer 216 flag', 'customer 1401 flag', 'customer 2391 flag',\n",
       "       'customer 2218 flag', 'customer customer others flag'],\n",
       "      dtype='object')"
      ]
     },
     "execution_count": 227,
     "metadata": {},
     "output_type": "execute_result"
    }
   ],
   "source": [
    "customer_df.columns = [cols.lower() for cols in customer_df.columns]\n",
    "customer_df.columns"
   ]
  },
  {
   "cell_type": "code",
   "execution_count": 228,
   "metadata": {
    "id": "RwuDZZ02TnhN"
   },
   "outputs": [],
   "source": [
    "## Core Product Seg\n",
    "product_columns = list(oppty_data_df.groupby(\"core product segment\").agg({'opportunity id' : 'nunique'}).reset_index().sort_values(by = \"opportunity id\" , ascending=False).head(4)[\"core product segment\"])\n",
    "product_columns += [\"Core Prd Seg Other\"]"
   ]
  },
  {
   "cell_type": "code",
   "execution_count": 229,
   "metadata": {
    "id": "ugHOlhpGTnhN"
   },
   "outputs": [],
   "source": [
    "product_seg_df = pd.DataFrame()\n",
    "for cols in product_columns:\n",
    "    col_name = 'core prd seg '+str(cols) + \" flag\"\n",
    "    temp_val = []\n",
    "    for row in oppty_data_df[\"core product segment\"]:\n",
    "        if cols == 'Core Prd Seg Other':\n",
    "            if row not in customer_columns:\n",
    "                temp_val.append(1)\n",
    "            else:\n",
    "                temp_val.append(0)\n",
    "        else:\n",
    "            if row == cols:\n",
    "                temp_val.append(1)\n",
    "            else:\n",
    "                temp_val.append(0)\n",
    "    product_seg_df[col_name] = temp_val"
   ]
  },
  {
   "cell_type": "code",
   "execution_count": 230,
   "metadata": {
    "id": "3FxJA2opTnhN",
    "outputId": "0f95dc9d-c86f-4fa0-a22d-8b458c8849cc"
   },
   "outputs": [
    {
     "data": {
      "text/plain": [
       "Index(['core prd seg 3 flag', 'core prd seg 4 flag', 'core prd seg 5 flag',\n",
       "       'core prd seg 8 flag', 'core prd seg core prd seg other flag'],\n",
       "      dtype='object')"
      ]
     },
     "execution_count": 230,
     "metadata": {},
     "output_type": "execute_result"
    }
   ],
   "source": [
    "product_seg_df.columns = [cols.lower() for cols in product_seg_df.columns]\n",
    "product_seg_df.columns"
   ]
  },
  {
   "cell_type": "code",
   "execution_count": 231,
   "metadata": {
    "id": "JNoFVrQhTnhN"
   },
   "outputs": [],
   "source": [
    "## Core Consumption Market things\n",
    "consumption_market_columns = list(oppty_data_df.groupby('core consumption market').agg({'opportunity id' : 'nunique'}).reset_index().sort_values(by = \"opportunity id\" , ascending=False).head(6)['core consumption market'])\n",
    "consumption_market_columns += ['Core Market Other']"
   ]
  },
  {
   "cell_type": "code",
   "execution_count": 232,
   "metadata": {
    "id": "mz4LHE0YTnhN"
   },
   "outputs": [],
   "source": [
    "consumption_market_df = pd.DataFrame()\n",
    "for cols in consumption_market_columns:\n",
    "    col_name = 'core market '+ str(cols) + \" flag\"\n",
    "    temp_val = []\n",
    "    for row in oppty_data_df[\"core consumption market\"]:\n",
    "        if cols == 'Other':\n",
    "            if row not in consumption_market_columns:\n",
    "                temp_val.append(1)\n",
    "            else:\n",
    "                temp_val.append(0)\n",
    "        else:\n",
    "            if row == cols:\n",
    "                temp_val.append(1)\n",
    "            else:\n",
    "                temp_val.append(0)\n",
    "    consumption_market_df[col_name] = temp_val"
   ]
  },
  {
   "cell_type": "code",
   "execution_count": 233,
   "metadata": {
    "id": "R4u000vUTnhN",
    "outputId": "5ca52051-682f-4251-d79a-7f4d361cb74e"
   },
   "outputs": [
    {
     "data": {
      "text/plain": [
       "Index(['core market 4 flag', 'core market 7 flag', 'core market 16 flag',\n",
       "       'core market 11 flag', 'core market 8 flag', 'core market 10 flag',\n",
       "       'core market core market other flag'],\n",
       "      dtype='object')"
      ]
     },
     "execution_count": 233,
     "metadata": {},
     "output_type": "execute_result"
    }
   ],
   "source": [
    "consumption_market_df.columns = [cols.lower() for cols in consumption_market_df.columns]\n",
    "consumption_market_df.columns"
   ]
  },
  {
   "cell_type": "code",
   "execution_count": 234,
   "metadata": {
    "id": "CHv6y7rKTnhN"
   },
   "outputs": [],
   "source": [
    "## 'core product application'\n",
    "core_prod_app_columns = list(oppty_data_df.groupby('core product application').agg({'opportunity id' : 'nunique'}).reset_index().sort_values(by = \"opportunity id\" , ascending=False).head(4)['core product application'])\n",
    "core_prod_app_columns += [\"Prd App Others\"]"
   ]
  },
  {
   "cell_type": "code",
   "execution_count": 235,
   "metadata": {
    "id": "DVT-_-dyTnhN"
   },
   "outputs": [],
   "source": [
    "core_prod_app_df = pd.DataFrame()\n",
    "for cols in core_prod_app_columns:\n",
    "    col_name = 'product app ' + str(cols) + \" flag\"\n",
    "    temp_val = []\n",
    "    for row in oppty_data_df['core product application']:\n",
    "        if cols == \"Prd App Others\":\n",
    "            if row not in core_prod_app_columns:\n",
    "                temp_val.append(1)\n",
    "            else:\n",
    "                temp_val.append(0)\n",
    "        else:\n",
    "            if row == cols:\n",
    "                temp_val.append(1)\n",
    "            else:\n",
    "                temp_val.append(0)\n",
    "    core_prod_app_df[col_name] = temp_val"
   ]
  },
  {
   "cell_type": "code",
   "execution_count": 236,
   "metadata": {
    "id": "MtZsbP-STnhO",
    "outputId": "12753bd6-51ce-4349-997d-0eac57ff093b"
   },
   "outputs": [
    {
     "data": {
      "text/plain": [
       "Index(['product app 13 flag', 'product app 4 flag', 'product app 22 flag',\n",
       "       'product app 14 flag', 'product app prd app others flag'],\n",
       "      dtype='object')"
      ]
     },
     "execution_count": 236,
     "metadata": {},
     "output_type": "execute_result"
    }
   ],
   "source": [
    "core_prod_app_df.columns = [cols.lower() for cols in core_prod_app_df.columns]\n",
    "core_prod_app_df.columns"
   ]
  },
  {
   "cell_type": "code",
   "execution_count": 237,
   "metadata": {
    "id": "Uv9n3_RbTnhO"
   },
   "outputs": [],
   "source": [
    "## 'core sales segment'\n",
    "core_sales_seg_columns = list(oppty_data_df.groupby('core sales segment').agg({'opportunity id' : 'nunique'}).reset_index().sort_values(by = \"opportunity id\" , ascending=False).head(5)['core sales segment'])\n",
    "core_sales_seg_columns += [\"Sales Segment Others\"]"
   ]
  },
  {
   "cell_type": "code",
   "execution_count": 238,
   "metadata": {
    "id": "Xs7al_mlTnhO"
   },
   "outputs": [],
   "source": [
    "core_sales_seg_df = pd.DataFrame()\n",
    "for cols in core_sales_seg_columns:\n",
    "    col_name = 'sales segment ' + str(cols) + \" flag\"\n",
    "    temp_val = []\n",
    "    for row in oppty_data_df['core sales segment']:\n",
    "        if cols == \"Sales Segment Others\":\n",
    "            if row not in core_sales_seg_columns:\n",
    "                temp_val.append(1)\n",
    "            else:\n",
    "                temp_val.append(0)\n",
    "        else:\n",
    "            if row == cols:\n",
    "                temp_val.append(1)\n",
    "            else:\n",
    "                temp_val.append(0)\n",
    "    core_sales_seg_df[col_name] = temp_val"
   ]
  },
  {
   "cell_type": "code",
   "execution_count": 239,
   "metadata": {
    "id": "UCKb-m_3TnhO",
    "outputId": "4181b422-adee-42a3-9cb0-46619746a80d"
   },
   "outputs": [
    {
     "data": {
      "text/plain": [
       "Index(['sales segment 8 flag', 'sales segment 1 flag', 'sales segment 10 flag',\n",
       "       'sales segment 9 flag', 'sales segment 4 flag',\n",
       "       'sales segment sales segment others flag'],\n",
       "      dtype='object')"
      ]
     },
     "execution_count": 239,
     "metadata": {},
     "output_type": "execute_result"
    }
   ],
   "source": [
    "core_sales_seg_df.columns = [cols.lower() for cols in core_sales_seg_df.columns]\n",
    "core_sales_seg_df.columns"
   ]
  },
  {
   "cell_type": "code",
   "execution_count": null,
   "metadata": {
    "id": "bIabxP0gTnhP"
   },
   "outputs": [],
   "source": []
  },
  {
   "cell_type": "code",
   "execution_count": 240,
   "metadata": {
    "id": "_m5KxqszTnhP"
   },
   "outputs": [],
   "source": [
    "total_cols = [oppty_data_df.columns , customer_df.columns , product_seg_df.columns , consumption_market_df.columns , core_prod_app_df.columns , core_sales_seg_df.columns]\n",
    "total_cols = [cols for list in total_cols for cols in list]"
   ]
  },
  {
   "cell_type": "code",
   "execution_count": 241,
   "metadata": {
    "id": "CyVir9P_TnhS"
   },
   "outputs": [],
   "source": [
    "flag_cols = [ ['-1 geo flag', '2 geo flag', '3 geo flag', '4 geo flag', '5 geo flag'] , customer_df.columns , product_seg_df.columns , consumption_market_df.columns , core_prod_app_df.columns , core_sales_seg_df.columns]\n",
    "flag_cols = [cols for list in flag_cols for cols in list]"
   ]
  },
  {
   "cell_type": "code",
   "execution_count": 242,
   "metadata": {
    "id": "pZsjdeprTnhS"
   },
   "outputs": [],
   "source": [
    "stage_columns = ['stage 3 transition','stage 4 transition','stage 5 transition','stage 9 transition','stage 2 transition','stage 6 transition','stage 1 transition','stage 8 transition','stage 7 transition']"
   ]
  },
  {
   "cell_type": "code",
   "execution_count": 243,
   "metadata": {
    "id": "qDW_Rq1fTnhS",
    "outputId": "74ed4c75-4d61-4e11-a1ab-926fbcc1585c"
   },
   "outputs": [
    {
     "data": {
      "text/html": [
       "<div>\n",
       "<style scoped>\n",
       "    .dataframe tbody tr th:only-of-type {\n",
       "        vertical-align: middle;\n",
       "    }\n",
       "\n",
       "    .dataframe tbody tr th {\n",
       "        vertical-align: top;\n",
       "    }\n",
       "\n",
       "    .dataframe thead th {\n",
       "        text-align: right;\n",
       "    }\n",
       "</style>\n",
       "<table border=\"1\" class=\"dataframe\">\n",
       "  <thead>\n",
       "    <tr style=\"text-align: right;\">\n",
       "      <th></th>\n",
       "      <th>unnamed 0.4</th>\n",
       "      <th>opportunity id</th>\n",
       "      <th>transition to stage</th>\n",
       "      <th>transition to timestamp</th>\n",
       "      <th>transition from stage name</th>\n",
       "      <th>transition from timestamp</th>\n",
       "      <th>customer name</th>\n",
       "      <th>risk status</th>\n",
       "      <th>creation date</th>\n",
       "      <th>decision date</th>\n",
       "      <th>...</th>\n",
       "      <th>product app 4 flag</th>\n",
       "      <th>product app 22 flag</th>\n",
       "      <th>product app 14 flag</th>\n",
       "      <th>product app prd app others flag</th>\n",
       "      <th>sales segment 8 flag</th>\n",
       "      <th>sales segment 1 flag</th>\n",
       "      <th>sales segment 10 flag</th>\n",
       "      <th>sales segment 9 flag</th>\n",
       "      <th>sales segment 4 flag</th>\n",
       "      <th>sales segment sales segment others flag</th>\n",
       "    </tr>\n",
       "  </thead>\n",
       "  <tbody>\n",
       "    <tr>\n",
       "      <th>0</th>\n",
       "      <td>0</td>\n",
       "      <td>5</td>\n",
       "      <td>3</td>\n",
       "      <td>2015-02-11 13:00:01</td>\n",
       "      <td>0</td>\n",
       "      <td>NaN</td>\n",
       "      <td>83</td>\n",
       "      <td>1</td>\n",
       "      <td>2015-02-11</td>\n",
       "      <td>2015-03-12</td>\n",
       "      <td>...</td>\n",
       "      <td>1</td>\n",
       "      <td>0</td>\n",
       "      <td>0</td>\n",
       "      <td>0</td>\n",
       "      <td>1</td>\n",
       "      <td>0</td>\n",
       "      <td>0</td>\n",
       "      <td>0</td>\n",
       "      <td>0</td>\n",
       "      <td>0</td>\n",
       "    </tr>\n",
       "  </tbody>\n",
       "</table>\n",
       "<p>1 rows × 67 columns</p>\n",
       "</div>"
      ],
      "text/plain": [
       "   unnamed 0.4  opportunity id  transition to stage transition to timestamp  \\\n",
       "0            0               5                    3     2015-02-11 13:00:01   \n",
       "\n",
       "   transition from stage name transition from timestamp  customer name  \\\n",
       "0                           0                       NaN             83   \n",
       "\n",
       "   risk status creation date decision date  ...  product app 4 flag  \\\n",
       "0            1    2015-02-11    2015-03-12  ...                   1   \n",
       "\n",
       "   product app 22 flag  product app 14 flag  product app prd app others flag  \\\n",
       "0                    0                    0                                0   \n",
       "\n",
       "   sales segment 8 flag  sales segment 1 flag  sales segment 10 flag  \\\n",
       "0                     1                     0                      0   \n",
       "\n",
       "   sales segment 9 flag  sales segment 4 flag  \\\n",
       "0                     0                     0   \n",
       "\n",
       "   sales segment sales segment others flag  \n",
       "0                                        0  \n",
       "\n",
       "[1 rows x 67 columns]"
      ]
     },
     "execution_count": 243,
     "metadata": {},
     "output_type": "execute_result"
    }
   ],
   "source": [
    "opportunity_final_df = pd.concat([oppty_data_df , customer_df , product_seg_df , consumption_market_df , core_prod_app_df , core_sales_seg_df] , axis = 1)\n",
    "opportunity_final_df.head(1)"
   ]
  },
  {
   "cell_type": "code",
   "execution_count": 244,
   "metadata": {},
   "outputs": [
    {
     "data": {
      "text/plain": [
       "array([0, 3, 4, 5, 2, 6, 8, 1, 7])"
      ]
     },
     "execution_count": 244,
     "metadata": {},
     "output_type": "execute_result"
    }
   ],
   "source": [
    "opportunity_final_df['transition from stage name'].unique()"
   ]
  },
  {
   "cell_type": "code",
   "execution_count": 245,
   "metadata": {
    "id": "HbL7tH8cTnhS"
   },
   "outputs": [],
   "source": [
    "##Opportunity table merged data\n",
    "merged_oppty_df = {}\n",
    "for cols in total_cols:\n",
    "    merged_oppty_df[cols] = []\n",
    "merged_oppty_df[\"decision time\"] = []"
   ]
  },
  {
   "cell_type": "code",
   "execution_count": 246,
   "metadata": {
    "id": "KR3NFGzhTnhT",
    "outputId": "f116c520-a946-4657-e27f-78bcddfa79f8"
   },
   "outputs": [
    {
     "data": {
      "text/html": [
       "<div>\n",
       "<style scoped>\n",
       "    .dataframe tbody tr th:only-of-type {\n",
       "        vertical-align: middle;\n",
       "    }\n",
       "\n",
       "    .dataframe tbody tr th {\n",
       "        vertical-align: top;\n",
       "    }\n",
       "\n",
       "    .dataframe thead th {\n",
       "        text-align: right;\n",
       "    }\n",
       "</style>\n",
       "<table border=\"1\" class=\"dataframe\">\n",
       "  <thead>\n",
       "    <tr style=\"text-align: right;\">\n",
       "      <th></th>\n",
       "    </tr>\n",
       "  </thead>\n",
       "  <tbody>\n",
       "  </tbody>\n",
       "</table>\n",
       "</div>"
      ],
      "text/plain": [
       "Empty DataFrame\n",
       "Columns: []\n",
       "Index: []"
      ]
     },
     "execution_count": 246,
     "metadata": {},
     "output_type": "execute_result"
    }
   ],
   "source": [
    "def merge_data(df):\n",
    "    df['creation date'] = pd.to_datetime(df['creation date'])\n",
    "    df['decision date'] = pd.to_datetime(df['decision date'])\n",
    "    time_for_decision = (df['decision date'].max() - df['creation date'].min()).days\n",
    "    max_timestamp = df[\"transition to timestamp\"].max()\n",
    "    new_df = df[df[\"transition to timestamp\"] == max_timestamp].copy()\n",
    "    op_id = new_df[\"opportunity id\"].unique()[0]\n",
    "    merged_oppty_df[\"decision time\"] += [time_for_decision]\n",
    "    for key_ in merged_oppty_df.keys():\n",
    "        if (key_ not in flag_cols) and (key_ != \"decision time\"):\n",
    "            merged_oppty_df[key_] += [new_df[key_].unique()[0]]\n",
    "    flag_sum = df[flag_cols].sum().to_frame(name='sum').T.to_dict()\n",
    "    for key_ in flag_sum.keys():\n",
    "        merged_oppty_df[key_] += [1 if flag_sum[key_]['sum'] > 0 else 0]\n",
    "\n",
    "opportunity_final_df.groupby('opportunity id').apply(merge_data)"
   ]
  },
  {
   "cell_type": "code",
   "execution_count": 247,
   "metadata": {
    "id": "LbpD1stUTnhT"
   },
   "outputs": [],
   "source": [
    "merged_oppty = pd.DataFrame(merged_oppty_df)"
   ]
  },
  {
   "cell_type": "code",
   "execution_count": 248,
   "metadata": {
    "id": "EbO9zejSTnhT"
   },
   "outputs": [],
   "source": [
    "merged_prod_df = {}\n",
    "merged_prod_df[\"opportunity id\"] = []\n",
    "merged_prod_df[\"opportunity cost\"] = []\n",
    "merged_prod_df[\"product quantity\"] = []\n",
    "merged_prod_df[\"number of products\"] = []"
   ]
  },
  {
   "cell_type": "code",
   "execution_count": 249,
   "metadata": {
    "id": "mi5koxb7TnhT",
    "outputId": "fce4a860-cb97-4adf-d7bb-65f0021ef511"
   },
   "outputs": [
    {
     "data": {
      "text/html": [
       "<div>\n",
       "<style scoped>\n",
       "    .dataframe tbody tr th:only-of-type {\n",
       "        vertical-align: middle;\n",
       "    }\n",
       "\n",
       "    .dataframe tbody tr th {\n",
       "        vertical-align: top;\n",
       "    }\n",
       "\n",
       "    .dataframe thead th {\n",
       "        text-align: right;\n",
       "    }\n",
       "</style>\n",
       "<table border=\"1\" class=\"dataframe\">\n",
       "  <thead>\n",
       "    <tr style=\"text-align: right;\">\n",
       "      <th></th>\n",
       "    </tr>\n",
       "  </thead>\n",
       "  <tbody>\n",
       "  </tbody>\n",
       "</table>\n",
       "</div>"
      ],
      "text/plain": [
       "Empty DataFrame\n",
       "Columns: []\n",
       "Index: []"
      ]
     },
     "execution_count": 249,
     "metadata": {},
     "output_type": "execute_result"
    }
   ],
   "source": [
    "temp_prod_dict = {}\n",
    "temp_prod_dict[\"opportunity id\"] = []\n",
    "temp_prod_dict[\"product id\"] = []\n",
    "temp_prod_dict[\"snapshot time\"] = []\n",
    "temp_prod_dict[\"product $\"] = []\n",
    "temp_prod_dict[\"product quantity\"] = []\n",
    "def opp_prod(df):\n",
    "    opp_id = df[\"opportunity id\"].unique()[0]\n",
    "    prod_id = df[\"product id\"].unique()[0]\n",
    "    df[\"snapshot time\"] = pd.to_datetime(df[\"snapshot time\"])\n",
    "    max_snap_time = df[\"snapshot time\"].max()\n",
    "    df = df[df[\"snapshot time\"] == max_snap_time]\n",
    "    product_cost = df[\"product $\"].unique()[0]\n",
    "    product_quantity = df[\"product quantity\"].unique()[0]\n",
    "    temp_prod_dict[\"opportunity id\"] += [opp_id]\n",
    "    temp_prod_dict[\"product id\"] += [prod_id]\n",
    "    temp_prod_dict[\"snapshot time\"] += [max_snap_time]\n",
    "    temp_prod_dict[\"product $\"] += [product_cost]\n",
    "    temp_prod_dict[\"product quantity\"] += [product_quantity]\n",
    "\n",
    "prod_data_df.groupby([\"opportunity id\" , \"product id\"]).apply(opp_prod)"
   ]
  },
  {
   "cell_type": "code",
   "execution_count": 250,
   "metadata": {
    "id": "QEoPLVW_TnhT",
    "outputId": "81d320f3-cbf4-4d1e-b7d5-c373993c4b6e"
   },
   "outputs": [
    {
     "data": {
      "text/html": [
       "<div>\n",
       "<style scoped>\n",
       "    .dataframe tbody tr th:only-of-type {\n",
       "        vertical-align: middle;\n",
       "    }\n",
       "\n",
       "    .dataframe tbody tr th {\n",
       "        vertical-align: top;\n",
       "    }\n",
       "\n",
       "    .dataframe thead th {\n",
       "        text-align: right;\n",
       "    }\n",
       "</style>\n",
       "<table border=\"1\" class=\"dataframe\">\n",
       "  <thead>\n",
       "    <tr style=\"text-align: right;\">\n",
       "      <th></th>\n",
       "    </tr>\n",
       "  </thead>\n",
       "  <tbody>\n",
       "  </tbody>\n",
       "</table>\n",
       "</div>"
      ],
      "text/plain": [
       "Empty DataFrame\n",
       "Columns: []\n",
       "Index: []"
      ]
     },
     "execution_count": 250,
     "metadata": {},
     "output_type": "execute_result"
    }
   ],
   "source": [
    "def merge_prod(df):\n",
    "    opp_id = df[\"opportunity id\"].unique()[0]\n",
    "    number_of_products = df[\"product id\"].nunique()\n",
    "    cost_of_opp = df[\"product $\"].sum()\n",
    "    opp_quant = df[\"product quantity\"].sum()\n",
    "    merged_prod_df[\"opportunity id\"] += [opp_id]\n",
    "    merged_prod_df[\"opportunity cost\"] += [cost_of_opp]\n",
    "    merged_prod_df[\"product quantity\"] += [opp_quant]\n",
    "    merged_prod_df[\"number of products\"] += [number_of_products]\n",
    "pd.DataFrame(temp_prod_dict).groupby(\"opportunity id\").apply(merge_prod)"
   ]
  },
  {
   "cell_type": "code",
   "execution_count": 251,
   "metadata": {
    "id": "duMm6D4cTnhT"
   },
   "outputs": [],
   "source": [
    "merged_prod = pd.DataFrame(merged_prod_df)"
   ]
  },
  {
   "cell_type": "code",
   "execution_count": null,
   "metadata": {
    "id": "ZvANdQL4TnhT"
   },
   "outputs": [],
   "source": []
  },
  {
   "cell_type": "code",
   "execution_count": null,
   "metadata": {
    "id": "dJ2N6PhJTnhT"
   },
   "outputs": [],
   "source": []
  },
  {
   "cell_type": "code",
   "execution_count": 252,
   "metadata": {
    "id": "9xB20-4JTnhT"
   },
   "outputs": [],
   "source": [
    "merged_data = merged_oppty.merge(merged_prod , on=\"opportunity id\" , how=\"inner\")"
   ]
  },
  {
   "cell_type": "code",
   "execution_count": 253,
   "metadata": {
    "id": "cIwoOmthTnhT",
    "outputId": "0e663720-f220-41e0-eb8f-49b6625b2187"
   },
   "outputs": [
    {
     "name": "stdout",
     "output_type": "stream",
     "text": [
      "<class 'pandas.core.frame.DataFrame'>\n",
      "Int64Index: 2538 entries, 0 to 2537\n",
      "Data columns (total 71 columns):\n",
      " #   Column                                   Non-Null Count  Dtype         \n",
      "---  ------                                   --------------  -----         \n",
      " 0   unnamed 0.4                              2538 non-null   int64         \n",
      " 1   opportunity id                           2538 non-null   int64         \n",
      " 2   transition to stage                      2538 non-null   int64         \n",
      " 3   transition to timestamp                  2538 non-null   object        \n",
      " 4   transition from stage name               2538 non-null   int64         \n",
      " 5   transition from timestamp                2450 non-null   object        \n",
      " 6   customer name                            2538 non-null   int64         \n",
      " 7   risk status                              2538 non-null   int64         \n",
      " 8   creation date                            2538 non-null   datetime64[ns]\n",
      " 9   decision date                            2538 non-null   datetime64[ns]\n",
      " 10  win                                      2538 non-null   int64         \n",
      " 11  opportunity type                         2538 non-null   int64         \n",
      " 12  core consumption market                  2538 non-null   int64         \n",
      " 13  core product segment                     2538 non-null   int64         \n",
      " 14  core sales segment                       2538 non-null   int64         \n",
      " 15  core product application                 2538 non-null   int64         \n",
      " 16  no of days to decision                   2538 non-null   int64         \n",
      " 17  transition days                          2450 non-null   float64       \n",
      " 18  total transition days                    2538 non-null   float64       \n",
      " 19  stage 3 transition                       2538 non-null   int64         \n",
      " 20  stage 4 transition                       2538 non-null   int64         \n",
      " 21  stage 5 transition                       2538 non-null   int64         \n",
      " 22  stage 2 transition                       2538 non-null   int64         \n",
      " 23  stage 6 transition                       2538 non-null   int64         \n",
      " 24  stage 1 transition                       2538 non-null   int64         \n",
      " 25  stage 8 transition                       2538 non-null   int64         \n",
      " 26  stage 9 transition                       2538 non-null   int64         \n",
      " 27  stage 7 transition                       2538 non-null   int64         \n",
      " 28  -1 geo flag                              2538 non-null   int64         \n",
      " 29  2 geo flag                               2538 non-null   int64         \n",
      " 30  3 geo flag                               2538 non-null   int64         \n",
      " 31  4 geo flag                               2538 non-null   int64         \n",
      " 32  5 geo flag                               2538 non-null   int64         \n",
      " 33  customer 2207 flag                       2538 non-null   int64         \n",
      " 34  customer 2213 flag                       2538 non-null   int64         \n",
      " 35  customer 474 flag                        2538 non-null   int64         \n",
      " 36  customer 117 flag                        2538 non-null   int64         \n",
      " 37  customer 9 flag                          2538 non-null   int64         \n",
      " 38  customer 2132 flag                       2538 non-null   int64         \n",
      " 39  customer 216 flag                        2538 non-null   int64         \n",
      " 40  customer 1401 flag                       2538 non-null   int64         \n",
      " 41  customer 2391 flag                       2538 non-null   int64         \n",
      " 42  customer 2218 flag                       2538 non-null   int64         \n",
      " 43  customer customer others flag            2538 non-null   int64         \n",
      " 44  core prd seg 3 flag                      2538 non-null   int64         \n",
      " 45  core prd seg 4 flag                      2538 non-null   int64         \n",
      " 46  core prd seg 5 flag                      2538 non-null   int64         \n",
      " 47  core prd seg 8 flag                      2538 non-null   int64         \n",
      " 48  core prd seg core prd seg other flag     2538 non-null   int64         \n",
      " 49  core market 4 flag                       2538 non-null   int64         \n",
      " 50  core market 7 flag                       2538 non-null   int64         \n",
      " 51  core market 16 flag                      2538 non-null   int64         \n",
      " 52  core market 11 flag                      2538 non-null   int64         \n",
      " 53  core market 8 flag                       2538 non-null   int64         \n",
      " 54  core market 10 flag                      2538 non-null   int64         \n",
      " 55  core market core market other flag       2538 non-null   int64         \n",
      " 56  product app 13 flag                      2538 non-null   int64         \n",
      " 57  product app 4 flag                       2538 non-null   int64         \n",
      " 58  product app 22 flag                      2538 non-null   int64         \n",
      " 59  product app 14 flag                      2538 non-null   int64         \n",
      " 60  product app prd app others flag          2538 non-null   int64         \n",
      " 61  sales segment 8 flag                     2538 non-null   int64         \n",
      " 62  sales segment 1 flag                     2538 non-null   int64         \n",
      " 63  sales segment 10 flag                    2538 non-null   int64         \n",
      " 64  sales segment 9 flag                     2538 non-null   int64         \n",
      " 65  sales segment 4 flag                     2538 non-null   int64         \n",
      " 66  sales segment sales segment others flag  2538 non-null   int64         \n",
      " 67  decision time                            2538 non-null   int64         \n",
      " 68  opportunity cost                         2538 non-null   int64         \n",
      " 69  product quantity                         2538 non-null   int64         \n",
      " 70  number of products                       2538 non-null   int64         \n",
      "dtypes: datetime64[ns](2), float64(2), int64(65), object(2)\n",
      "memory usage: 1.4+ MB\n"
     ]
    }
   ],
   "source": [
    "merged_data.info()"
   ]
  },
  {
   "cell_type": "code",
   "execution_count": 254,
   "metadata": {
    "id": "cg2nmKHaTnhT"
   },
   "outputs": [
    {
     "data": {
      "text/plain": [
       "0       1\n",
       "1       1\n",
       "2       1\n",
       "3       0\n",
       "4       0\n",
       "       ..\n",
       "2533    0\n",
       "2534    1\n",
       "2535    0\n",
       "2536    0\n",
       "2537    1\n",
       "Name: win, Length: 2538, dtype: int64"
      ]
     },
     "execution_count": 254,
     "metadata": {},
     "output_type": "execute_result"
    }
   ],
   "source": [
    "merged_data['win']"
   ]
  },
  {
   "cell_type": "code",
   "execution_count": 255,
   "metadata": {
    "id": "RtA7cdaITnhT",
    "outputId": "e87d0a7a-1d07-45d1-bd84-7f9e5a892caa"
   },
   "outputs": [
    {
     "data": {
      "text/plain": [
       "1    1907\n",
       "0     631\n",
       "Name: win, dtype: int64"
      ]
     },
     "execution_count": 255,
     "metadata": {},
     "output_type": "execute_result"
    }
   ],
   "source": [
    "merged_data[\"win\"].value_counts()"
   ]
  },
  {
   "cell_type": "code",
   "execution_count": 256,
   "metadata": {},
   "outputs": [
    {
     "data": {
      "text/plain": [
       "Index(['unnamed 0.4', 'opportunity id', 'transition to stage',\n",
       "       'transition to timestamp', 'transition from stage name',\n",
       "       'transition from timestamp', 'customer name', 'risk status',\n",
       "       'creation date', 'decision date', 'win', 'opportunity type',\n",
       "       'core consumption market', 'core product segment', 'core sales segment',\n",
       "       'core product application', 'no of days to decision', 'transition days',\n",
       "       'total transition days', 'stage 3 transition', 'stage 4 transition',\n",
       "       'stage 5 transition', 'stage 2 transition', 'stage 6 transition',\n",
       "       'stage 1 transition', 'stage 8 transition', 'stage 9 transition',\n",
       "       'stage 7 transition', '-1 geo flag', '2 geo flag', '3 geo flag',\n",
       "       '4 geo flag', '5 geo flag', 'customer 2207 flag', 'customer 2213 flag',\n",
       "       'customer 474 flag', 'customer 117 flag', 'customer 9 flag',\n",
       "       'customer 2132 flag', 'customer 216 flag', 'customer 1401 flag',\n",
       "       'customer 2391 flag', 'customer 2218 flag',\n",
       "       'customer customer others flag', 'core prd seg 3 flag',\n",
       "       'core prd seg 4 flag', 'core prd seg 5 flag', 'core prd seg 8 flag',\n",
       "       'core prd seg core prd seg other flag', 'core market 4 flag',\n",
       "       'core market 7 flag', 'core market 16 flag', 'core market 11 flag',\n",
       "       'core market 8 flag', 'core market 10 flag',\n",
       "       'core market core market other flag', 'product app 13 flag',\n",
       "       'product app 4 flag', 'product app 22 flag', 'product app 14 flag',\n",
       "       'product app prd app others flag', 'sales segment 8 flag',\n",
       "       'sales segment 1 flag', 'sales segment 10 flag', 'sales segment 9 flag',\n",
       "       'sales segment 4 flag', 'sales segment sales segment others flag',\n",
       "       'decision time', 'opportunity cost', 'product quantity',\n",
       "       'number of products'],\n",
       "      dtype='object')"
      ]
     },
     "execution_count": 256,
     "metadata": {},
     "output_type": "execute_result"
    }
   ],
   "source": [
    "merged_data.columns"
   ]
  },
  {
   "cell_type": "code",
   "execution_count": 267,
   "metadata": {},
   "outputs": [],
   "source": [
    "dataset.save_dataset(context,merged_data, 'raw/merged_data')"
   ]
  },
  {
   "cell_type": "code",
   "execution_count": 257,
   "metadata": {
    "id": "YjV5cDF5TnhT"
   },
   "outputs": [],
   "source": [
    "features = [\n",
    "       'risk status','win',\n",
    "       'opportunity type','no of days to decision', 'transition days', 'total transition days',\n",
    "       'stage 3 transition', 'stage 5 transition',\n",
    "       'stage 2 transition', 'stage 6 transition', 'stage 7 transition', '2 geo flag', '3 geo flag', '4 geo flag', '5 geo flag',\n",
    "       'customer 2207 flag', 'customer 2213 flag', 'customer 474 flag',\n",
    "       'customer 117 flag', 'customer 9 flag', 'customer 2132 flag',\n",
    "       'customer 216 flag', 'customer 1401 flag', 'customer 2391 flag',\n",
    "       'customer 2218 flag',\n",
    "       'core prd seg 3 flag', 'core prd seg 4 flag', 'core prd seg 5 flag',\n",
    "       'core prd seg 8 flag',\n",
    "       'core market 4 flag', 'core market 7 flag', 'core market 16 flag',\n",
    "       'core market 11 flag', 'core market 8 flag', 'core market 10 flag', 'product app 13 flag',\n",
    "       'product app 4 flag', 'product app 22 flag', 'product app 14 flag', 'sales segment 8 flag',\n",
    "       'sales segment 1 flag', 'sales segment 10 flag', 'sales segment 9 flag',\n",
    "       'sales segment 4 flag',\n",
    "       'decision time', 'opportunity cost', 'product quantity',\n",
    "       'number of products'\n",
    "]"
   ]
  },
  {
   "cell_type": "code",
   "execution_count": 258,
   "metadata": {
    "id": "dUnukbURTnhU"
   },
   "outputs": [],
   "source": [
    "model_data = merged_data[features]"
   ]
  },
  {
   "cell_type": "code",
   "execution_count": 259,
   "metadata": {},
   "outputs": [
    {
     "data": {
      "text/plain": [
       "48"
      ]
     },
     "execution_count": 259,
     "metadata": {},
     "output_type": "execute_result"
    }
   ],
   "source": [
    "len(model_data.columns)"
   ]
  },
  {
   "cell_type": "code",
   "execution_count": 260,
   "metadata": {
    "id": "L-5GxJDzTnhU"
   },
   "outputs": [],
   "source": [
    "X = model_data.drop(columns='win')  # Features (everything except the target column)\n",
    "y = model_data['win']  # Target column (the binary 'opportunity status')"
   ]
  },
  {
   "cell_type": "code",
   "execution_count": 261,
   "metadata": {},
   "outputs": [
    {
     "data": {
      "text/plain": [
       "array([1, 0])"
      ]
     },
     "execution_count": 261,
     "metadata": {},
     "output_type": "execute_result"
    }
   ],
   "source": [
    "y.unique()"
   ]
  },
  {
   "cell_type": "code",
   "execution_count": 262,
   "metadata": {},
   "outputs": [],
   "source": [
    "dataset.save_dataset(context,model_data, 'processed/merged_df')"
   ]
  },
  {
   "cell_type": "code",
   "execution_count": null,
   "metadata": {},
   "outputs": [],
   "source": []
  },
  {
   "cell_type": "code",
   "execution_count": null,
   "metadata": {},
   "outputs": [],
   "source": []
  },
  {
   "cell_type": "code",
   "execution_count": null,
   "metadata": {},
   "outputs": [],
   "source": []
  },
  {
   "cell_type": "code",
   "execution_count": null,
   "metadata": {},
   "outputs": [],
   "source": []
  },
  {
   "cell_type": "code",
   "execution_count": 56,
   "metadata": {
    "id": "UcoBho3KTnhU"
   },
   "outputs": [],
   "source": [
    "X_train, X_test, y_train, y_test = train_test_split(\n",
    "    X, y, test_size=0.2, random_state=42, stratify=y\n",
    ")"
   ]
  },
  {
   "cell_type": "code",
   "execution_count": 57,
   "metadata": {
    "id": "b426nUsxTnhU"
   },
   "outputs": [],
   "source": [
    "train_data = pd.concat([X_train, y_train], axis=1)\n",
    "test_data = pd.concat([X_test, y_test], axis=1)"
   ]
  },
  {
   "cell_type": "code",
   "execution_count": 58,
   "metadata": {
    "id": "pbn5yUG2TnhU"
   },
   "outputs": [
    {
     "ename": "OSError",
     "evalue": "Cannot save file into a non-existent directory: '../../data/train'",
     "output_type": "error",
     "traceback": [
      "\u001b[0;31m---------------------------------------------------------------------------\u001b[0m",
      "\u001b[0;31mOSError\u001b[0m                                   Traceback (most recent call last)",
      "Cell \u001b[0;32mIn[58], line 1\u001b[0m\n\u001b[0;32m----> 1\u001b[0m \u001b[43mtrain_data\u001b[49m\u001b[38;5;241;43m.\u001b[39;49m\u001b[43mto_csv\u001b[49m\u001b[43m(\u001b[49m\u001b[38;5;124;43m'\u001b[39;49m\u001b[38;5;124;43m../../data/train/train_data.csv\u001b[39;49m\u001b[38;5;124;43m'\u001b[39;49m\u001b[43m \u001b[49m\u001b[43m,\u001b[49m\u001b[43m \u001b[49m\u001b[43mindex\u001b[49m\u001b[38;5;241;43m=\u001b[39;49m\u001b[38;5;28;43;01mFalse\u001b[39;49;00m\u001b[43m)\u001b[49m\n\u001b[1;32m      2\u001b[0m test_data\u001b[38;5;241m.\u001b[39mto_csv(\u001b[38;5;124m'\u001b[39m\u001b[38;5;124m../../data/test/test_data.csv\u001b[39m\u001b[38;5;124m'\u001b[39m , index\u001b[38;5;241m=\u001b[39m\u001b[38;5;28;01mFalse\u001b[39;00m)\n",
      "File \u001b[0;32m~/miniconda3/envs/case_study-dev/lib/python3.10/site-packages/pandas/core/generic.py:3551\u001b[0m, in \u001b[0;36mNDFrame.to_csv\u001b[0;34m(self, path_or_buf, sep, na_rep, float_format, columns, header, index, index_label, mode, encoding, compression, quoting, quotechar, line_terminator, chunksize, date_format, doublequote, escapechar, decimal, errors, storage_options)\u001b[0m\n\u001b[1;32m   3540\u001b[0m df \u001b[38;5;241m=\u001b[39m \u001b[38;5;28mself\u001b[39m \u001b[38;5;28;01mif\u001b[39;00m \u001b[38;5;28misinstance\u001b[39m(\u001b[38;5;28mself\u001b[39m, ABCDataFrame) \u001b[38;5;28;01melse\u001b[39;00m \u001b[38;5;28mself\u001b[39m\u001b[38;5;241m.\u001b[39mto_frame()\n\u001b[1;32m   3542\u001b[0m formatter \u001b[38;5;241m=\u001b[39m DataFrameFormatter(\n\u001b[1;32m   3543\u001b[0m     frame\u001b[38;5;241m=\u001b[39mdf,\n\u001b[1;32m   3544\u001b[0m     header\u001b[38;5;241m=\u001b[39mheader,\n\u001b[0;32m   (...)\u001b[0m\n\u001b[1;32m   3548\u001b[0m     decimal\u001b[38;5;241m=\u001b[39mdecimal,\n\u001b[1;32m   3549\u001b[0m )\n\u001b[0;32m-> 3551\u001b[0m \u001b[38;5;28;01mreturn\u001b[39;00m \u001b[43mDataFrameRenderer\u001b[49m\u001b[43m(\u001b[49m\u001b[43mformatter\u001b[49m\u001b[43m)\u001b[49m\u001b[38;5;241;43m.\u001b[39;49m\u001b[43mto_csv\u001b[49m\u001b[43m(\u001b[49m\n\u001b[1;32m   3552\u001b[0m \u001b[43m    \u001b[49m\u001b[43mpath_or_buf\u001b[49m\u001b[43m,\u001b[49m\n\u001b[1;32m   3553\u001b[0m \u001b[43m    \u001b[49m\u001b[43mline_terminator\u001b[49m\u001b[38;5;241;43m=\u001b[39;49m\u001b[43mline_terminator\u001b[49m\u001b[43m,\u001b[49m\n\u001b[1;32m   3554\u001b[0m \u001b[43m    \u001b[49m\u001b[43msep\u001b[49m\u001b[38;5;241;43m=\u001b[39;49m\u001b[43msep\u001b[49m\u001b[43m,\u001b[49m\n\u001b[1;32m   3555\u001b[0m \u001b[43m    \u001b[49m\u001b[43mencoding\u001b[49m\u001b[38;5;241;43m=\u001b[39;49m\u001b[43mencoding\u001b[49m\u001b[43m,\u001b[49m\n\u001b[1;32m   3556\u001b[0m \u001b[43m    \u001b[49m\u001b[43merrors\u001b[49m\u001b[38;5;241;43m=\u001b[39;49m\u001b[43merrors\u001b[49m\u001b[43m,\u001b[49m\n\u001b[1;32m   3557\u001b[0m \u001b[43m    \u001b[49m\u001b[43mcompression\u001b[49m\u001b[38;5;241;43m=\u001b[39;49m\u001b[43mcompression\u001b[49m\u001b[43m,\u001b[49m\n\u001b[1;32m   3558\u001b[0m \u001b[43m    \u001b[49m\u001b[43mquoting\u001b[49m\u001b[38;5;241;43m=\u001b[39;49m\u001b[43mquoting\u001b[49m\u001b[43m,\u001b[49m\n\u001b[1;32m   3559\u001b[0m \u001b[43m    \u001b[49m\u001b[43mcolumns\u001b[49m\u001b[38;5;241;43m=\u001b[39;49m\u001b[43mcolumns\u001b[49m\u001b[43m,\u001b[49m\n\u001b[1;32m   3560\u001b[0m \u001b[43m    \u001b[49m\u001b[43mindex_label\u001b[49m\u001b[38;5;241;43m=\u001b[39;49m\u001b[43mindex_label\u001b[49m\u001b[43m,\u001b[49m\n\u001b[1;32m   3561\u001b[0m \u001b[43m    \u001b[49m\u001b[43mmode\u001b[49m\u001b[38;5;241;43m=\u001b[39;49m\u001b[43mmode\u001b[49m\u001b[43m,\u001b[49m\n\u001b[1;32m   3562\u001b[0m \u001b[43m    \u001b[49m\u001b[43mchunksize\u001b[49m\u001b[38;5;241;43m=\u001b[39;49m\u001b[43mchunksize\u001b[49m\u001b[43m,\u001b[49m\n\u001b[1;32m   3563\u001b[0m \u001b[43m    \u001b[49m\u001b[43mquotechar\u001b[49m\u001b[38;5;241;43m=\u001b[39;49m\u001b[43mquotechar\u001b[49m\u001b[43m,\u001b[49m\n\u001b[1;32m   3564\u001b[0m \u001b[43m    \u001b[49m\u001b[43mdate_format\u001b[49m\u001b[38;5;241;43m=\u001b[39;49m\u001b[43mdate_format\u001b[49m\u001b[43m,\u001b[49m\n\u001b[1;32m   3565\u001b[0m \u001b[43m    \u001b[49m\u001b[43mdoublequote\u001b[49m\u001b[38;5;241;43m=\u001b[39;49m\u001b[43mdoublequote\u001b[49m\u001b[43m,\u001b[49m\n\u001b[1;32m   3566\u001b[0m \u001b[43m    \u001b[49m\u001b[43mescapechar\u001b[49m\u001b[38;5;241;43m=\u001b[39;49m\u001b[43mescapechar\u001b[49m\u001b[43m,\u001b[49m\n\u001b[1;32m   3567\u001b[0m \u001b[43m    \u001b[49m\u001b[43mstorage_options\u001b[49m\u001b[38;5;241;43m=\u001b[39;49m\u001b[43mstorage_options\u001b[49m\u001b[43m,\u001b[49m\n\u001b[1;32m   3568\u001b[0m \u001b[43m\u001b[49m\u001b[43m)\u001b[49m\n",
      "File \u001b[0;32m~/miniconda3/envs/case_study-dev/lib/python3.10/site-packages/pandas/io/formats/format.py:1180\u001b[0m, in \u001b[0;36mDataFrameRenderer.to_csv\u001b[0;34m(self, path_or_buf, encoding, sep, columns, index_label, mode, compression, quoting, quotechar, line_terminator, chunksize, date_format, doublequote, escapechar, errors, storage_options)\u001b[0m\n\u001b[1;32m   1159\u001b[0m     created_buffer \u001b[38;5;241m=\u001b[39m \u001b[38;5;28;01mFalse\u001b[39;00m\n\u001b[1;32m   1161\u001b[0m csv_formatter \u001b[38;5;241m=\u001b[39m CSVFormatter(\n\u001b[1;32m   1162\u001b[0m     path_or_buf\u001b[38;5;241m=\u001b[39mpath_or_buf,\n\u001b[1;32m   1163\u001b[0m     line_terminator\u001b[38;5;241m=\u001b[39mline_terminator,\n\u001b[0;32m   (...)\u001b[0m\n\u001b[1;32m   1178\u001b[0m     formatter\u001b[38;5;241m=\u001b[39m\u001b[38;5;28mself\u001b[39m\u001b[38;5;241m.\u001b[39mfmt,\n\u001b[1;32m   1179\u001b[0m )\n\u001b[0;32m-> 1180\u001b[0m \u001b[43mcsv_formatter\u001b[49m\u001b[38;5;241;43m.\u001b[39;49m\u001b[43msave\u001b[49m\u001b[43m(\u001b[49m\u001b[43m)\u001b[49m\n\u001b[1;32m   1182\u001b[0m \u001b[38;5;28;01mif\u001b[39;00m created_buffer:\n\u001b[1;32m   1183\u001b[0m     \u001b[38;5;28;01massert\u001b[39;00m \u001b[38;5;28misinstance\u001b[39m(path_or_buf, StringIO)\n",
      "File \u001b[0;32m~/miniconda3/envs/case_study-dev/lib/python3.10/site-packages/pandas/io/formats/csvs.py:241\u001b[0m, in \u001b[0;36mCSVFormatter.save\u001b[0;34m(self)\u001b[0m\n\u001b[1;32m    237\u001b[0m \u001b[38;5;250m\u001b[39m\u001b[38;5;124;03m\"\"\"\u001b[39;00m\n\u001b[1;32m    238\u001b[0m \u001b[38;5;124;03mCreate the writer & save.\u001b[39;00m\n\u001b[1;32m    239\u001b[0m \u001b[38;5;124;03m\"\"\"\u001b[39;00m\n\u001b[1;32m    240\u001b[0m \u001b[38;5;66;03m# apply compression and byte/text conversion\u001b[39;00m\n\u001b[0;32m--> 241\u001b[0m \u001b[38;5;28;01mwith\u001b[39;00m \u001b[43mget_handle\u001b[49m\u001b[43m(\u001b[49m\n\u001b[1;32m    242\u001b[0m \u001b[43m    \u001b[49m\u001b[38;5;28;43mself\u001b[39;49m\u001b[38;5;241;43m.\u001b[39;49m\u001b[43mfilepath_or_buffer\u001b[49m\u001b[43m,\u001b[49m\n\u001b[1;32m    243\u001b[0m \u001b[43m    \u001b[49m\u001b[38;5;28;43mself\u001b[39;49m\u001b[38;5;241;43m.\u001b[39;49m\u001b[43mmode\u001b[49m\u001b[43m,\u001b[49m\n\u001b[1;32m    244\u001b[0m \u001b[43m    \u001b[49m\u001b[43mencoding\u001b[49m\u001b[38;5;241;43m=\u001b[39;49m\u001b[38;5;28;43mself\u001b[39;49m\u001b[38;5;241;43m.\u001b[39;49m\u001b[43mencoding\u001b[49m\u001b[43m,\u001b[49m\n\u001b[1;32m    245\u001b[0m \u001b[43m    \u001b[49m\u001b[43merrors\u001b[49m\u001b[38;5;241;43m=\u001b[39;49m\u001b[38;5;28;43mself\u001b[39;49m\u001b[38;5;241;43m.\u001b[39;49m\u001b[43merrors\u001b[49m\u001b[43m,\u001b[49m\n\u001b[1;32m    246\u001b[0m \u001b[43m    \u001b[49m\u001b[43mcompression\u001b[49m\u001b[38;5;241;43m=\u001b[39;49m\u001b[38;5;28;43mself\u001b[39;49m\u001b[38;5;241;43m.\u001b[39;49m\u001b[43mcompression\u001b[49m\u001b[43m,\u001b[49m\n\u001b[1;32m    247\u001b[0m \u001b[43m    \u001b[49m\u001b[43mstorage_options\u001b[49m\u001b[38;5;241;43m=\u001b[39;49m\u001b[38;5;28;43mself\u001b[39;49m\u001b[38;5;241;43m.\u001b[39;49m\u001b[43mstorage_options\u001b[49m\u001b[43m,\u001b[49m\n\u001b[1;32m    248\u001b[0m \u001b[43m\u001b[49m\u001b[43m)\u001b[49m \u001b[38;5;28;01mas\u001b[39;00m handles:\n\u001b[1;32m    249\u001b[0m \n\u001b[1;32m    250\u001b[0m     \u001b[38;5;66;03m# Note: self.encoding is irrelevant here\u001b[39;00m\n\u001b[1;32m    251\u001b[0m     \u001b[38;5;28mself\u001b[39m\u001b[38;5;241m.\u001b[39mwriter \u001b[38;5;241m=\u001b[39m csvlib\u001b[38;5;241m.\u001b[39mwriter(\n\u001b[1;32m    252\u001b[0m         handles\u001b[38;5;241m.\u001b[39mhandle,\n\u001b[1;32m    253\u001b[0m         lineterminator\u001b[38;5;241m=\u001b[39m\u001b[38;5;28mself\u001b[39m\u001b[38;5;241m.\u001b[39mline_terminator,\n\u001b[0;32m   (...)\u001b[0m\n\u001b[1;32m    258\u001b[0m         quotechar\u001b[38;5;241m=\u001b[39m\u001b[38;5;28mself\u001b[39m\u001b[38;5;241m.\u001b[39mquotechar,\n\u001b[1;32m    259\u001b[0m     )\n\u001b[1;32m    261\u001b[0m     \u001b[38;5;28mself\u001b[39m\u001b[38;5;241m.\u001b[39m_save()\n",
      "File \u001b[0;32m~/miniconda3/envs/case_study-dev/lib/python3.10/site-packages/pandas/io/common.py:697\u001b[0m, in \u001b[0;36mget_handle\u001b[0;34m(path_or_buf, mode, encoding, compression, memory_map, is_text, errors, storage_options)\u001b[0m\n\u001b[1;32m    695\u001b[0m \u001b[38;5;66;03m# Only for write methods\u001b[39;00m\n\u001b[1;32m    696\u001b[0m \u001b[38;5;28;01mif\u001b[39;00m \u001b[38;5;124m\"\u001b[39m\u001b[38;5;124mr\u001b[39m\u001b[38;5;124m\"\u001b[39m \u001b[38;5;129;01mnot\u001b[39;00m \u001b[38;5;129;01min\u001b[39;00m mode \u001b[38;5;129;01mand\u001b[39;00m is_path:\n\u001b[0;32m--> 697\u001b[0m     \u001b[43mcheck_parent_directory\u001b[49m\u001b[43m(\u001b[49m\u001b[38;5;28;43mstr\u001b[39;49m\u001b[43m(\u001b[49m\u001b[43mhandle\u001b[49m\u001b[43m)\u001b[49m\u001b[43m)\u001b[49m\n\u001b[1;32m    699\u001b[0m \u001b[38;5;28;01mif\u001b[39;00m compression:\n\u001b[1;32m    700\u001b[0m     \u001b[38;5;28;01mif\u001b[39;00m compression \u001b[38;5;241m!=\u001b[39m \u001b[38;5;124m\"\u001b[39m\u001b[38;5;124mzstd\u001b[39m\u001b[38;5;124m\"\u001b[39m:\n\u001b[1;32m    701\u001b[0m         \u001b[38;5;66;03m# compression libraries do not like an explicit text-mode\u001b[39;00m\n",
      "File \u001b[0;32m~/miniconda3/envs/case_study-dev/lib/python3.10/site-packages/pandas/io/common.py:571\u001b[0m, in \u001b[0;36mcheck_parent_directory\u001b[0;34m(path)\u001b[0m\n\u001b[1;32m    569\u001b[0m parent \u001b[38;5;241m=\u001b[39m Path(path)\u001b[38;5;241m.\u001b[39mparent\n\u001b[1;32m    570\u001b[0m \u001b[38;5;28;01mif\u001b[39;00m \u001b[38;5;129;01mnot\u001b[39;00m parent\u001b[38;5;241m.\u001b[39mis_dir():\n\u001b[0;32m--> 571\u001b[0m     \u001b[38;5;28;01mraise\u001b[39;00m \u001b[38;5;167;01mOSError\u001b[39;00m(\u001b[38;5;124mrf\u001b[39m\u001b[38;5;124m\"\u001b[39m\u001b[38;5;124mCannot save file into a non-existent directory: \u001b[39m\u001b[38;5;124m'\u001b[39m\u001b[38;5;132;01m{\u001b[39;00mparent\u001b[38;5;132;01m}\u001b[39;00m\u001b[38;5;124m'\u001b[39m\u001b[38;5;124m\"\u001b[39m)\n",
      "\u001b[0;31mOSError\u001b[0m: Cannot save file into a non-existent directory: '../../data/train'"
     ]
    }
   ],
   "source": [
    "train_data.to_csv('../../data/train/train_data.csv' , index=False)\n",
    "test_data.to_csv('../../data/test/test_data.csv' , index=False)"
   ]
  },
  {
   "cell_type": "code",
   "execution_count": null,
   "metadata": {
    "id": "Ko5vpXpvTnhU"
   },
   "outputs": [],
   "source": []
  }
 ],
 "metadata": {
  "colab": {
   "provenance": []
  },
  "kernelspec": {
   "display_name": "case_study-dev",
   "language": "python",
   "name": "python3"
  },
  "language_info": {
   "codemirror_mode": {
    "name": "ipython",
    "version": 3
   },
   "file_extension": ".py",
   "mimetype": "text/x-python",
   "name": "python",
   "nbconvert_exporter": "python",
   "pygments_lexer": "ipython3",
   "version": "3.10.16"
  }
 },
 "nbformat": 4,
 "nbformat_minor": 4
}
